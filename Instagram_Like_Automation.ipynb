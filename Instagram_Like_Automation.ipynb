{
 "cells": [
  {
   "cell_type": "code",
   "execution_count": 1,
   "id": "bfcbc94d",
   "metadata": {},
   "outputs": [
    {
     "name": "stdout",
     "output_type": "stream",
     "text": [
      "Requirement already satisfied: selenium in c:\\users\\kaliy\\anaconda3\\lib\\site-packages (3.141.0)\n",
      "Requirement already satisfied: urllib3 in c:\\users\\kaliy\\anaconda3\\lib\\site-packages (from selenium) (1.26.4)\n",
      "Note: you may need to restart the kernel to use updated packages.\n"
     ]
    }
   ],
   "source": [
    "pip install selenium"
   ]
  },
  {
   "cell_type": "code",
   "execution_count": 2,
   "id": "0b9e502b",
   "metadata": {},
   "outputs": [],
   "source": [
    "from selenium import webdriver\n",
    "import time\n",
    "\n",
    "browser=webdriver.Chrome(\"D:\\chromedriver.exe\")\n",
    "browser.get(\"https://www.instagram.com/\")\n",
    "time.sleep(4)\n",
    "\n",
    "#Login\n",
    "Username=browser.find_element_by_xpath(\"/html/body/div[1]/section/main/article/div[2]/div[1]/div/form/div/div[1]/div/label/input\")\n",
    "Username.send_keys(\"Your_Username\")\n",
    "time.sleep(4)\n",
    "\n",
    "Password=browser.find_element_by_xpath(\"/html/body/div[1]/section/main/article/div[2]/div[1]/div/form/div/div[2]/div/label/input\")\n",
    "Password.send_keys(\"Your_Password\")\n",
    "Password.submit()\n",
    "time.sleep(5)\n",
    "\n",
    "#NotNow\n",
    "Notnow=browser.find_element_by_xpath(\"/html/body/div[1]/section/main/div/div/div/div/button\")\n",
    "Notnow.click()\n",
    "time.sleep(3)\n",
    "\n",
    "#Notification\n",
    "Noti=browser.find_element_by_xpath(\"/html/body/div[4]/div/div/div/div[3]/button[2]\")\n",
    "Noti.click()\n",
    "time.sleep(3)\n",
    "\n",
    "#Logic\n",
    "\n",
    "def firstpic():\n",
    "     time.sleep(2)\n",
    "     pic=browser.find_element_by_class_name(\"_9AhH0\")\n",
    "     pic.click()\n",
    "\n",
    "def likepic():\n",
    "     time.sleep(3)\n",
    "     like=browser.find_element_by_xpath(\"/html/body/div[1]/section/main/section/div/div[2]/div/article[1]/div[3]/section[1]/span[1]/button\")\n",
    "     like.click()\n",
    "\n",
    "firstpic()\n",
    "likepic()"
   ]
  },
  {
   "cell_type": "code",
   "execution_count": null,
   "id": "3e041d67",
   "metadata": {},
   "outputs": [],
   "source": []
  }
 ],
 "metadata": {
  "kernelspec": {
   "display_name": "Python 3",
   "language": "python",
   "name": "python3"
  },
  "language_info": {
   "codemirror_mode": {
    "name": "ipython",
    "version": 3
   },
   "file_extension": ".py",
   "mimetype": "text/x-python",
   "name": "python",
   "nbconvert_exporter": "python",
   "pygments_lexer": "ipython3",
   "version": "3.8.8"
  }
 },
 "nbformat": 4,
 "nbformat_minor": 5
}
